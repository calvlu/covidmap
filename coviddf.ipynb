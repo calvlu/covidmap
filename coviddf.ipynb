{
 "cells": [
  {
   "cell_type": "code",
   "execution_count": null,
   "metadata": {},
   "outputs": [],
   "source": [
    "import numpy as np\n",
    "import pandas as pd"
   ]
  },
  {
   "cell_type": "code",
   "execution_count": null,
   "metadata": {},
   "outputs": [],
   "source": [
    "nytcovid = pd.read_csv(\"./Downloads/us-states.csv\")\n",
    "colorstate = pd.read_csv(\"./Downloads/colorstate.csv\")\n",
    "statepop = pd.read_csv(\"./Downloads/statepop.csv\")"
   ]
  },
  {
   "cell_type": "code",
   "execution_count": null,
   "metadata": {},
   "outputs": [],
   "source": [
    "statepop[\"Population\"] = statepop[\"Population\"].replace(',','', regex=True).astype(int)\n",
    "newdf= pd.merge(colorstate, statepop, on='state')"
   ]
  },
  {
   "cell_type": "code",
   "execution_count": null,
   "metadata": {},
   "outputs": [],
   "source": [
    "nytcovid['month'] = pd.DatetimeIndex(nytcovid['date']).month\n",
    "nytcovid['month_name'] = pd.DatetimeIndex(nytcovid['date']).month_name()\n",
    "nytcovid.head(10)"
   ]
  },
  {
   "cell_type": "code",
   "execution_count": null,
   "metadata": {},
   "outputs": [],
   "source": [
    "covidmonthly = nytcovid[['state','month','cases','month_name','fips']].groupby(['state', 'month'],as_index=False).max()\n",
    "covidmonthly.head(20)"
   ]
  },
  {
   "cell_type": "code",
   "execution_count": null,
   "metadata": {},
   "outputs": [],
   "source": [
    "covidmonthly[\"new_cases\"] = covidmonthly[[\"cases\",'state']].groupby(['state']).diff()\n",
    "covidmonthly.head(20)"
   ]
  },
  {
   "cell_type": "code",
   "execution_count": null,
   "metadata": {},
   "outputs": [],
   "source": [
    "df = pd.merge(covidmonthly, newdf, on='state')\n",
    "\n",
    "df[\"case_rate\"] = df[\"new_cases\"] / df[\"Population\"] * 100000\n",
    "df"
   ]
  },
  {
   "cell_type": "code",
   "execution_count": null,
   "metadata": {},
   "outputs": [],
   "source": [
    "hotspots = df[df['case_rate'] > 500].sort_values(by=['month'])\n",
    "hotspots.head(20)\n",
    "#df.groupby(['color','month']).sum()\n",
    "#add up population for new bluestate redstate rate"
   ]
  },
  {
   "cell_type": "code",
   "execution_count": null,
   "metadata": {},
   "outputs": [],
   "source": [
    "df.to_csv('./Downloads/covidmonthly.csv')\n",
    "hotspots.to_csv('./Downloads/hotspots.csv')"
   ]
  },
  {
   "cell_type": "code",
   "execution_count": null,
   "metadata": {},
   "outputs": [],
   "source": []
  },
  {
   "cell_type": "code",
   "execution_count": null,
   "metadata": {},
   "outputs": [],
   "source": []
  }
 ],
 "metadata": {
  "kernelspec": {
   "display_name": "Python 3",
   "language": "python",
   "name": "python3"
  },
  "language_info": {
   "codemirror_mode": {
    "name": "ipython",
    "version": 3
   },
   "file_extension": ".py",
   "mimetype": "text/x-python",
   "name": "python",
   "nbconvert_exporter": "python",
   "pygments_lexer": "ipython3",
   "version": "3.8.3"
  }
 },
 "nbformat": 4,
 "nbformat_minor": 4
}
